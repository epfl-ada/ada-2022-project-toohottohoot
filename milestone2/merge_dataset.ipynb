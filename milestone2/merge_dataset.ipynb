{
 "cells": [
  {
   "cell_type": "code",
   "execution_count": 26,
   "metadata": {},
   "outputs": [],
   "source": [
    "import os\n",
    "import subprocess\n",
    "import pandas as pd\n",
    "import matplotlib.pyplot as plt\n",
    "\n",
    "DATA_FOLDER = '../data/'"
   ]
  },
  {
   "cell_type": "code",
   "execution_count": 30,
   "metadata": {},
   "outputs": [],
   "source": [
    "beers_ba = pd.read_csv('../data/BeerAdvocate/beers.csv')\n",
    "breweries_ba = pd.read_csv('../data/BeerAdvocate/breweries.csv')\n",
    "users_ba = pd.read_csv('../data/BeerAdvocate/users.csv')\n",
    "\n",
    "beers_rb = pd.read_csv('../data/RateBeer/beers.csv')\n",
    "breweries_rb = pd.read_csv('../data/RateBeer/breweries.csv')\n",
    "users_rb = pd.read_csv('../data/RateBeer/users.csv')"
   ]
  },
  {
   "cell_type": "code",
   "execution_count": 31,
   "metadata": {},
   "outputs": [
    {
     "name": "stderr",
     "output_type": "stream",
     "text": [
      "/var/folders/y_/y88txvzd6wn04_qgbshn3ct80000gn/T/ipykernel_29514/1794055585.py:1: DtypeWarning: Columns (0,1,2,3,4,5,8,10,11,12,13,15,16,17,18,19,20,23,25,26,27,29,30,31,32) have mixed types. Specify dtype option on import or set low_memory=False.\n",
      "  beers_matched = pd.read_csv('../data/matched_beer_data/beers.csv')\n",
      "/var/folders/y_/y88txvzd6wn04_qgbshn3ct80000gn/T/ipykernel_29514/1794055585.py:5: DtypeWarning: Columns (0,1,2,3,5,7,8,9,10,11,13,17,18,19,20,22,24,25,26,27,29,31) have mixed types. Specify dtype option on import or set low_memory=False.\n",
      "  ratings_matched  = pd.read_csv('../data/matched_beer_data/ratings.csv')\n"
     ]
    }
   ],
   "source": [
    "beers_matched = pd.read_csv('../data/matched_beer_data/beers.csv')\n",
    "breweries_matched  = pd.read_csv('../data/matched_beer_data/breweries.csv')\n",
    "users_matched  = pd.read_csv('../data/matched_beer_data/users.csv')\n",
    "users_approx_matched  = pd.read_csv('../data/matched_beer_data/users_approx.csv')\n",
    "ratings_matched  = pd.read_csv('../data/matched_beer_data/ratings.csv')"
   ]
  },
  {
   "cell_type": "code",
   "execution_count": 32,
   "metadata": {},
   "outputs": [],
   "source": [
    "breweries_matched.head()\n",
    "breweries_ma_col_name = breweries_matched.iloc[0]\n",
    "breweries_matched.drop(index=0, inplace=True) "
   ]
  },
  {
   "cell_type": "code",
   "execution_count": 33,
   "metadata": {},
   "outputs": [
    {
     "name": "stdout",
     "output_type": "stream",
     "text": [
      "ba                 id\n",
      "ba.1         location\n",
      "ba.2             name\n",
      "ba.3        nbr_beers\n",
      "rb                 id\n",
      "rb.1         location\n",
      "rb.2             name\n",
      "rb.3        nbr_beers\n",
      "scores           diff\n",
      "scores.1          sim\n",
      "Name: 0, dtype: object\n"
     ]
    }
   ],
   "source": [
    "print(breweries_ma_col_name)"
   ]
  },
  {
   "cell_type": "code",
   "execution_count": 36,
   "metadata": {},
   "outputs": [],
   "source": [
    "breweries_matched['ba'] = pd.to_numeric(breweries_matched['ba'])\n",
    "breweries_matched['ba.3'] = pd.to_numeric(breweries_matched['ba.3'])\n",
    "breweries_matched['rb'] = pd.to_numeric(breweries_matched['rb'])\n",
    "breweries_matched['rb.3'] = pd.to_numeric(breweries_matched['rb.3'])\n",
    "breweries_matched['scores'] = pd.to_numeric(breweries_matched['scores'])\n",
    "breweries_matched['scores.1'] = pd.to_numeric(breweries_matched['scores.1'])"
   ]
  },
  {
   "cell_type": "code",
   "execution_count": 41,
   "metadata": {},
   "outputs": [
    {
     "data": {
      "text/plain": [
       "[<matplotlib.lines.Line2D at 0x17f5b1070>]"
      ]
     },
     "execution_count": 41,
     "metadata": {},
     "output_type": "execute_result"
    },
    {
     "data": {
      "image/png": "[encoded data removed]",
      "text/plain": [
       "<Figure size 640x480 with 1 Axes>"
      ]
     },
     "metadata": {},
     "output_type": "display_data"
    }
   ],
   "source": [
    "plt.figure()\n",
    "plt.plot(breweries_matched['rb.3']-breweries_matched['ba.3'])"
   ]
  },
  {
   "cell_type": "code",
   "execution_count": 42,
   "metadata": {},
   "outputs": [],
   "source": [
    "beers_matched.head()\n",
    "beers_ma_col_name = beers_matched.iloc[0]\n",
    "beers_matched.drop(index=0, inplace=True) "
   ]
  },
  {
   "cell_type": "code",
   "execution_count": 49,
   "metadata": {},
   "outputs": [
    {
     "name": "stdout",
     "output_type": "stream",
     "text": [
      "ba                                abv\n",
      "ba.1                              avg\n",
      "ba.2                     avg_computed\n",
      "ba.3        avg_matched_valid_ratings\n",
      "ba.4                         ba_score\n",
      "ba.5                          beer_id\n",
      "ba.6                        beer_name\n",
      "ba.7           beer_wout_brewery_name\n",
      "ba.8                       brewery_id\n",
      "ba.9                     brewery_name\n",
      "ba.10                      bros_score\n",
      "ba.11       nbr_matched_valid_ratings\n",
      "ba.12                     nbr_ratings\n",
      "ba.13                     nbr_reviews\n",
      "ba.14                           style\n",
      "ba.15                          zscore\n",
      "rb                                abv\n",
      "rb.1                              avg\n",
      "rb.2                     avg_computed\n",
      "rb.3        avg_matched_valid_ratings\n",
      "rb.4                          beer_id\n",
      "rb.5                        beer_name\n",
      "rb.6           beer_wout_brewery_name\n",
      "rb.7                       brewery_id\n",
      "rb.8                     brewery_name\n",
      "rb.9        nbr_matched_valid_ratings\n",
      "rb.10                     nbr_ratings\n",
      "rb.11                   overall_score\n",
      "rb.12                           style\n",
      "rb.13                     style_score\n",
      "rb.14                          zscore\n",
      "scores                           diff\n",
      "scores.1                          sim\n",
      "Name: 0, dtype: object\n"
     ]
    }
   ],
   "source": [
    "print(beers_ma_col_name)"
   ]
  },
  {
   "cell_type": "code",
   "execution_count": 47,
   "metadata": {},
   "outputs": [],
   "source": [
    "beers_matched['ba'] = pd.to_numeric(beers_matched['ba'])\n",
    "beers_matched['ba.1'] = pd.to_numeric(beers_matched['ba.1'])\n",
    "beers_matched['ba.2'] = pd.to_numeric(beers_matched['ba.2'])\n",
    "beers_matched['ba.3'] = pd.to_numeric(beers_matched['ba.3'])\n",
    "beers_matched['ba.4'] = pd.to_numeric(beers_matched['ba.4'])\n",
    "beers_matched['ba.5'] = pd.to_numeric(beers_matched['ba.5'])\n",
    "beers_matched['ba.8'] = pd.to_numeric(beers_matched['ba.8'])\n",
    "beers_matched['ba.10'] = pd.to_numeric(beers_matched['ba.10'])\n",
    "beers_matched['ba.11'] = pd.to_numeric(beers_matched['ba.11'])\n",
    "beers_matched['ba.12'] = pd.to_numeric(beers_matched['ba.12'])\n",
    "beers_matched['ba.13'] = pd.to_numeric(beers_matched['ba.13'])\n",
    "beers_matched['ba.15'] = pd.to_numeric(beers_matched['ba.15'])\n",
    "\n",
    "\n",
    "beers_matched['rb'] = pd.to_numeric(beers_matched['rb'])\n",
    "beers_matched['rb.1'] = pd.to_numeric(beers_matched['rb.1'])\n",
    "beers_matched['rb.2'] = pd.to_numeric(beers_matched['rb.2'])\n",
    "beers_matched['rb.3'] = pd.to_numeric(beers_matched['rb.3'])\n",
    "beers_matched['rb.4'] = pd.to_numeric(beers_matched['rb.4'])\n",
    "beers_matched['rb.7'] = pd.to_numeric(beers_matched['rb.7'])\n",
    "beers_matched['rb.9'] = pd.to_numeric(beers_matched['rb.9'])\n",
    "beers_matched['rb.10'] = pd.to_numeric(beers_matched['rb.10'])\n",
    "beers_matched['rb.11'] = pd.to_numeric(beers_matched['rb.11'])\n",
    "beers_matched['rb.13'] = pd.to_numeric(beers_matched['rb.13'])\n",
    "beers_matched['rb.14'] = pd.to_numeric(beers_matched['rb.14'])\n",
    "\n",
    "beers_matched['scores'] = pd.to_numeric(beers_matched['scores'])\n",
    "beers_matched['scores.1'] = pd.to_numeric(beers_matched['scores.1'])"
   ]
  },
  {
   "cell_type": "code",
   "execution_count": 51,
   "metadata": {},
   "outputs": [
    {
     "data": {
      "text/plain": [
       "[<matplotlib.lines.Line2D at 0x17ff00d60>]"
      ]
     },
     "execution_count": 51,
     "metadata": {},
     "output_type": "execute_result"
    },
    {
     "data": {
      "image/png": "[encoded data removed]",
      "text/plain": [
       "<Figure size 640x480 with 1 Axes>"
      ]
     },
     "metadata": {},
     "output_type": "display_data"
    }
   ],
   "source": [
    "plt.figure()\n",
    "plt.plot(beers_matched['rb']-beers_matched['ba'])\n",
    "plt.plot()"
   ]
  },
  {
   "cell_type": "code",
   "execution_count": null,
   "metadata": {},
   "outputs": [],
   "source": []
  }
 ],
 "metadata": {
  "kernelspec": {
   "display_name": "Python 3.9.13 ('ada')",
   "language": "python",
   "name": "python3"
  },
  "language_info": {
   "codemirror_mode": {
    "name": "ipython",
    "version": 3
   },
   "file_extension": ".py",
   "mimetype": "text/x-python",
   "name": "python",
   "nbconvert_exporter": "python",
   "pygments_lexer": "ipython3",
   "version": "3.9.13"
  },
  "orig_nbformat": 4,
  "vscode": {
   "interpreter": {
    "hash": "93963d08e70ee6c5fda436d8fb318be1b3ce6c69e5c7a2a5023d39c7fdf62847"
   }
  }
 },
 "nbformat": 4,
 "nbformat_minor": 2
}

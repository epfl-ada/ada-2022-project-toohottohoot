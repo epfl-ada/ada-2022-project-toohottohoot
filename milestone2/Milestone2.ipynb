{
 "cells": [
  {
   "cell_type": "markdown",
   "id": "0648e253",
   "metadata": {},
   "source": [
    "# ADA Project Milestone 2 \n",
    "## Project proposal and initial analyses"
   ]
  },
  {
   "cell_type": "markdown",
   "id": "53603823",
   "metadata": {},
   "source": [
    "### Import packages for preprocess"
   ]
  },
  {
   "cell_type": "code",
   "execution_count": 2,
   "id": "1e7f0e48",
   "metadata": {},
   "outputs": [],
   "source": [
    "import pandas as pd\n",
    "import numpy as np\n",
    "import matplotlib.pyplot as plt\n",
    "import seaborn as sns\n",
    "from scipy import stats\n",
    "\n",
    "sns.set()\n",
    "sns.set_style(\"whitegrid\")\n",
    "colors = sns.color_palette(\"colorblind\", 16)"
   ]
  },
  {
   "cell_type": "markdown",
   "id": "603fd1b3",
   "metadata": {},
   "source": [
    "### Import Dataset"
   ]
  },
  {
   "cell_type": "code",
   "execution_count": null,
   "id": "4fd33203",
   "metadata": {},
   "outputs": [],
   "source": []
  }
 ],
 "metadata": {
  "kernelspec": {
   "display_name": "Python 3",
   "language": "python",
   "name": "python3"
  },
  "language_info": {
   "codemirror_mode": {
    "name": "ipython",
    "version": 3
   },
   "file_extension": ".py",
   "mimetype": "text/x-python",
   "name": "python",
   "nbconvert_exporter": "python",
   "pygments_lexer": "ipython3",
   "version": "3.8.8"
  }
 },
 "nbformat": 4,
 "nbformat_minor": 5
}
